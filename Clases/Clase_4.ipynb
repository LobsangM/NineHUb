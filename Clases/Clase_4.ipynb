{
 "cells": [
  {
   "cell_type": "markdown",
   "metadata": {},
   "source": [
    "# Estructuras de Datos en Python"
   ]
  },
  {
   "cell_type": "markdown",
   "metadata": {},
   "source": [
    "# Listas\n",
    "\n",
    "estructura de datos que almacena una lista de valores, puede almacenar (int, float, string, etc.)\n",
    "\n",
    "Sintaxis: [,,,,]\n"
   ]
  },
  {
   "cell_type": "code",
   "execution_count": 25,
   "metadata": {},
   "outputs": [
    {
     "name": "stdout",
     "output_type": "stream",
     "text": [
      "5\n",
      "[5, 5, 76, 95, 33, 64, 87]\n"
     ]
    }
   ],
   "source": [
    "precios = [87, 64, 33, 95, 76]\n",
    "\n",
    "print(len(precios))  #Tanaño\n",
    "\n",
    "precios.append(5)  #Agregar objeto\n",
    "\n",
    "precios.reverse() #revierte el orden\n",
    "\n",
    "precios.insert(1, 5) #inserta un elemento en el índice  y se corre todo\n",
    "\n",
    "precios.remove(1) #elimina la primera aparición del elemento\n",
    "\n",
    "\n",
    "\n",
    "print(precios)\n"
   ]
  },
  {
   "cell_type": "markdown",
   "metadata": {},
   "source": [
    "## Slicing de listas"
   ]
  },
  {
   "cell_type": "code",
   "execution_count": 13,
   "metadata": {},
   "outputs": [
    {
     "data": {
      "text/plain": [
       "[64, 33, 95]"
      ]
     },
     "execution_count": 13,
     "metadata": {},
     "output_type": "execute_result"
    }
   ],
   "source": [
    "precios[1 : 4]"
   ]
  },
  {
   "cell_type": "code",
   "execution_count": 14,
   "metadata": {},
   "outputs": [
    {
     "data": {
      "text/plain": [
       "[87, 64, 33, 95]"
      ]
     },
     "execution_count": 14,
     "metadata": {},
     "output_type": "execute_result"
    }
   ],
   "source": [
    "precios[:4]"
   ]
  },
  {
   "cell_type": "code",
   "execution_count": 17,
   "metadata": {},
   "outputs": [
    {
     "data": {
      "text/plain": [
       "[64, 33, 95, 76]"
      ]
     },
     "execution_count": 17,
     "metadata": {},
     "output_type": "execute_result"
    }
   ],
   "source": [
    "precios[1 :]"
   ]
  },
  {
   "cell_type": "code",
   "execution_count": 11,
   "metadata": {},
   "outputs": [
    {
     "data": {
      "text/plain": [
       "[95, 76]"
      ]
     },
     "execution_count": 11,
     "metadata": {},
     "output_type": "execute_result"
    }
   ],
   "source": [
    "precios[-3 : -1]"
   ]
  },
  {
   "cell_type": "markdown",
   "metadata": {},
   "source": [
    "## Formas de llenar una lista"
   ]
  },
  {
   "cell_type": "code",
   "execution_count": 35,
   "metadata": {},
   "outputs": [
    {
     "name": "stdout",
     "output_type": "stream",
     "text": [
      "[0, 1, 4, 9, 16, 25, 36, 49, 64, 81]\n"
     ]
    }
   ],
   "source": [
    "lista = []\n",
    "\n",
    "for i in range(10):\n",
    "    lista.append(i**2)\n",
    "print(lista)\n",
    "\n",
    "lista = [0]*10\n",
    "\n",
    "for i in range(len(lista)):\n",
    "    lista[i] = i**2\n",
    "\n",
    "lista = [i**2 for i in range(10)]"
   ]
  },
  {
   "cell_type": "markdown",
   "metadata": {},
   "source": [
    "### Ejemplo"
   ]
  },
  {
   "cell_type": "code",
   "execution_count": 30,
   "metadata": {},
   "outputs": [
    {
     "name": "stdout",
     "output_type": "stream",
     "text": [
      "[0, 1, 2]\n"
     ]
    }
   ],
   "source": [
    "l = [i for i in range(3)]   #lista por comprensión\n",
    "\n",
    "print(l)"
   ]
  },
  {
   "cell_type": "code",
   "execution_count": 33,
   "metadata": {},
   "outputs": [],
   "source": [
    "l.append(1)\n"
   ]
  },
  {
   "cell_type": "markdown",
   "metadata": {},
   "source": [
    "## Ejercicio en clase\n",
    "\n",
    "Pedir al usuario que ingrese sus 3 peliculas favoritas y almacenarlas en una lista, luego impirma la lista"
   ]
  },
  {
   "cell_type": "code",
   "execution_count": 44,
   "metadata": {},
   "outputs": [
    {
     "name": "stdout",
     "output_type": "stream",
     "text": [
      "Tus películas favoritas son: ['Avatar', 'El Padrino', 'Star wars']\n"
     ]
    }
   ],
   "source": [
    "a = input(\"Ingrese su película favorita: \")\n",
    "b = input(\"Ingrese su 2da película favorita: \")\n",
    "c = input(\"Ingrese su 3ra película favorita: \")\n",
    "\n",
    "def peliculas(a, b, c):\n",
    "    lista = [a, b, c]\n",
    "    lista.sort()\n",
    "    return lista\n",
    "\n",
    "lista_peliculas = peliculas(a, b, c)\n",
    "\n",
    "print(\"Tus películas favoritas son:\", lista_peliculas)\n"
   ]
  },
  {
   "cell_type": "markdown",
   "metadata": {},
   "source": [
    "# Tuplas\n",
    "\n",
    "Sintaxis: (, ,)\n",
    "\n",
    "Es una estructura de datos que almacena una secuencia inmutable de valores.\n",
    " \n",
    "\n"
   ]
  },
  {
   "cell_type": "code",
   "execution_count": null,
   "metadata": {},
   "outputs": [],
   "source": [
    "tupla = (87, 64, 33, 5, 76)\n",
    "\n",
    "tupla.index()"
   ]
  },
  {
   "cell_type": "markdown",
   "metadata": {},
   "source": [
    "## Ejercicio de Tuplas\n",
    "\n",
    "Crea una lista de tuplas que contenga informacion sobre varios estudiantes. Donde cada tupla contenga el nombre del estudiante y su edad. Realizar las siguientes operaciones:\n",
    "\n",
    "a. Crear la lista de tuplas con al menos tres estudiantes\n",
    "b. Imprimir la lista de estudiantes\n",
    "c. Iterar sobre la lista e imprimir el nombre y la edad de cada estudiante."
   ]
  },
  {
   "cell_type": "code",
   "execution_count": 46,
   "metadata": {},
   "outputs": [
    {
     "name": "stdout",
     "output_type": "stream",
     "text": [
      "Lista de estudiantes: [('Juan', 20), ('María', 23), ('Carlos', 28)]\n",
      "Nombre: Juan, Edad: 20\n",
      "Nombre: María, Edad: 23\n",
      "Nombre: Carlos, Edad: 28\n"
     ]
    }
   ],
   "source": [
    "estudiantes = [(\"Juan\", 20), (\"María\", 23), (\"Carlos\", 28)]\n",
    "\n",
    "print(\"Lista de estudiantes:\", estudiantes)\n",
    "\n",
    "for nombre, edad in estudiantes:\n",
    "    print(f\"Nombre: {nombre}, Edad: {edad}\")\n"
   ]
  },
  {
   "cell_type": "markdown",
   "metadata": {},
   "source": [
    "# Conjuntos \n",
    "\n",
    "sintaxis : {,  , }\n",
    "\n",
    "A diferencia de las listas y tuplas, no estan ordenados, no existe índice"
   ]
  },
  {
   "cell_type": "markdown",
   "metadata": {},
   "source": [
    "1. Los conjuntos no poermiten elementos duplicados\n",
    "2. Los conjuntos no garantizan ningún orden\n",
    "3. Los conjuntos son mutables, lo que significa que puedes añadir o quitar elementos"
   ]
  },
  {
   "cell_type": "code",
   "execution_count": 47,
   "metadata": {},
   "outputs": [],
   "source": [
    "Miconjunto = {1,2,3}\n",
    "\n",
    "# set.add(element) #agregar un elemento al conjunto\n",
    "# set.remove(element) #elimina"
   ]
  },
  {
   "cell_type": "markdown",
   "metadata": {},
   "source": [
    "### Ejercicios en clase\n",
    "\n",
    "Para la siguiente lista, elimina valores duplicados haciendo uso de los conjuntos. Luego crea un conjunto c números del 1 al 5 y haz la intersección entre ambos conjuntos\n",
    "\n",
    "lista = [3,7,5,8,1,6,2,5]\n"
   ]
  },
  {
   "cell_type": "code",
   "execution_count": 55,
   "metadata": {},
   "outputs": [
    {
     "name": "stdout",
     "output_type": "stream",
     "text": [
      "Conjunto sin duplicados: {1, 2, 3, 5, 6, 7, 8}\n",
      "Conjunto de números del 1 al 5: {1, 2, 3, 4, 5}\n",
      "Intersección entre ambos conjuntos: {1, 2, 3, 5}\n"
     ]
    }
   ],
   "source": [
    "\n",
    "lista = [3, 7, 5, 8, 1, 6, 2, 5]\n",
    "\n",
    "\n",
    "c = set(lista)\n",
    "print(\"Conjunto sin duplicados:\", c)\n",
    "\n",
    "\n",
    "nuevo_c = {1, 2, 3, 4, 5}\n",
    "print(\"Conjunto de números del 1 al 5:\", nuevo_c)\n",
    "\n",
    "\n",
    "interseccion = c.intersection(nuevo_c)\n",
    "print(\"Intersección entre ambos conjuntos:\", interseccion)\n"
   ]
  },
  {
   "cell_type": "code",
   "execution_count": 54,
   "metadata": {},
   "outputs": [
    {
     "name": "stdout",
     "output_type": "stream",
     "text": [
      "{1, 2, 3, 4, 5, 6, 7, 8, 9, 10}\n"
     ]
    }
   ],
   "source": [
    "l = [1,1,2,2,3,3,4,4,5,5,6,6,7,7,8,8,9,10]  #set.(nombre) vuelve la lista un conjunto, es decir, quita duplicados\n",
    "\n",
    "c = set(l)\n",
    "\n",
    "print(c)"
   ]
  },
  {
   "cell_type": "code",
   "execution_count": 59,
   "metadata": {},
   "outputs": [],
   "source": [
    "# #Solución del ejercicio\n",
    "\n",
    "# lista = [3,7,5,8,1,6,1,6,2,5]\n",
    "\n",
    "# conjunto = set({})\n",
    "\n",
    "# for valor in lista:\n",
    "#     conjunto.add(valor)\n",
    "\n",
    "# lista2 = []\n",
    "\n",
    "# while conjunto != set({}):\n",
    "#     lista2.append(conjunto.pop)\n",
    "\n",
    "# print(lista)\n",
    "# print(lista2)\n",
    "# print(list(set()))\n"
   ]
  },
  {
   "cell_type": "markdown",
   "metadata": {},
   "source": [
    "# Diccionarios\n",
    "\n"
   ]
  },
  {
   "cell_type": "markdown",
   "metadata": {},
   "source": [
    "Es muy eficiente para buúsquedas, inserciones y eliminaciones de elemenatos basados en una única clave."
   ]
  },
  {
   "cell_type": "markdown",
   "metadata": {},
   "source": [
    "### Ejercicio en clase\n",
    "\n",
    "Crear un diccionario de listas que contengan los nombres y calificaciones de los 5 alumnos en la seccion de matemática. Luego realiza una búsqueda para conocer el nombre y calificación de cada alumno en el diccionario."
   ]
  },
  {
   "cell_type": "code",
   "execution_count": 58,
   "metadata": {},
   "outputs": [
    {
     "name": "stdout",
     "output_type": "stream",
     "text": [
      "Nombre: Juan, Calificación: 85\n",
      "Nombre: María, Calificación: 92\n",
      "Nombre: Carlos, Calificación: 78\n",
      "Nombre: Ana, Calificación: 88\n",
      "Nombre: Luis, Calificación: 90\n"
     ]
    }
   ],
   "source": [
    "seccion = {\n",
    "    \"alumnos\": [\"Juan\", \"María\", \"Carlos\", \"Ana\", \"Luis\"],\n",
    "    \"calificaciones\": [85, 92, 78, 88, 90]\n",
    "}\n",
    "\n",
    "\n",
    "def buscar(diccionario):\n",
    "\n",
    "    for i in range(len(diccionario[\"alumnos\"])):\n",
    "\n",
    "        nombre = diccionario[\"alumnos\"][i]\n",
    "        calificacion = diccionario[\"calificaciones\"][i]\n",
    "        \n",
    "        print(f\"Nombre: {nombre}, Calificación: {calificacion}\")\n",
    "\n",
    "\n",
    "buscar(seccion)\n"
   ]
  }
 ],
 "metadata": {
  "kernelspec": {
   "display_name": "Python 3",
   "language": "python",
   "name": "python3"
  },
  "language_info": {
   "codemirror_mode": {
    "name": "ipython",
    "version": 3
   },
   "file_extension": ".py",
   "mimetype": "text/x-python",
   "name": "python",
   "nbconvert_exporter": "python",
   "pygments_lexer": "ipython3",
   "version": "3.10.6"
  }
 },
 "nbformat": 4,
 "nbformat_minor": 2
}
