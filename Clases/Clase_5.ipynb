{
 "cells": [
  {
   "cell_type": "markdown",
   "metadata": {},
   "source": [
    "# Recursividad y Librerias"
   ]
  },
  {
   "cell_type": "markdown",
   "metadata": {},
   "source": [
    "\n",
    "\n",
    "## Recursión\n",
    "\n",
    "es una forma de definir funciones donde una función se llama a sí misma."
   ]
  },
  {
   "cell_type": "code",
   "execution_count": 5,
   "metadata": {},
   "outputs": [
    {
     "name": "stdout",
     "output_type": "stream",
     "text": [
      "1\n",
      "2\n",
      "3\n",
      "4\n",
      "5\n",
      "6\n",
      "7\n"
     ]
    }
   ],
   "source": [
    "def imprimir_del_1_al_(n):\n",
    "    if n == 0:\n",
    "        return \n",
    "    else:\n",
    "        imprimir_del_1_al_(n-1)\n",
    "        print(n)\n",
    "        \n",
    "imprimir_del_1_al_(7)"
   ]
  },
  {
   "cell_type": "markdown",
   "metadata": {},
   "source": [
    "### Ejercicio en clase\n",
    "\n",
    "escribir los primeros 25 numeros de la suceción de fibonacci"
   ]
  },
  {
   "cell_type": "code",
   "execution_count": 19,
   "metadata": {},
   "outputs": [
    {
     "name": "stdout",
     "output_type": "stream",
     "text": [
      "[0, 1, 1, 2, 3, 5, 8, 13, 21, 34, 55, 89, 144, 233, 377, 610, 987, 1597, 2584, 4181, 6765, 10946, 17711, 28657, 46368]\n"
     ]
    }
   ],
   "source": [
    "def fibo(n):\n",
    "    if n <= 1:\n",
    "        return n\n",
    "    else:\n",
    "        return fibo(n-1) + fibo(n-2)\n",
    "\n",
    "fibo_list = [fibo(i) for i in range(25)]\n",
    "\n",
    "\n",
    "print(fibo_list)\n"
   ]
  },
  {
   "cell_type": "markdown",
   "metadata": {},
   "source": [
    "## Librerias\n",
    "\n",
    "Son conjuntos de herramientos con funciones preescritas para utlizarlas en el código\n",
    "\n",
    "existen:\n",
    "\n",
    "1. Librerias Estándar: Estas liberias vienen con python\n",
    "2. Librerias de Terceros: pueden ser instaladas con \"pip.install name\"\n",
    "3. Librerias propias"
   ]
  },
  {
   "cell_type": "markdown",
   "metadata": {},
   "source": [
    "## Librerias: Numpy"
   ]
  },
  {
   "cell_type": "code",
   "execution_count": 2,
   "metadata": {},
   "outputs": [],
   "source": [
    "import numpy as np"
   ]
  },
  {
   "cell_type": "code",
   "execution_count": 5,
   "metadata": {},
   "outputs": [],
   "source": [
    "# # Matrices y vectores\n",
    "\n",
    "# A = np.array([1,2],[3,4])\n",
    "# B = np.array([1,0],[0,4])\n",
    "\n",
    "# print(A@B) #producto matricial"
   ]
  },
  {
   "cell_type": "code",
   "execution_count": 7,
   "metadata": {},
   "outputs": [
    {
     "name": "stdout",
     "output_type": "stream",
     "text": [
      "26\n"
     ]
    }
   ],
   "source": [
    "# Vectores notación matricial\n",
    "\n",
    "v = np.array([1,3,4])\n",
    "\n",
    "print(v@np.transpose(v))"
   ]
  },
  {
   "cell_type": "markdown",
   "metadata": {},
   "source": [
    "### Ejercicio\n",
    "\n",
    "Funcion de redondeo hacia abajo: Programa una función que solicite al usuario un número decimal y devuelva el enteronmenor más cercano utilizando una libreria \"math\"\n",
    "\n",
    "Simulación de repartición de Cartas de poker: Programa una función que simle la repartición de cartas en un juego de Poker. Recuerda la baraja tiene 52 cartas, excluyendo los comdines. El usuario debe tener 4 cartas en mano, las cuales deben ser selccionadas de forma aleatoria en cada juego. Asegúrate de que las cartas repartidas al usuario no permanezcan en la baraja.\n",
    "\n",
    "Calculadora de operaciones con Matrices cuadradas: Programa una calculadora que permita sumar, restar y multiplicar matrices cuadradas."
   ]
  },
  {
   "cell_type": "code",
   "execution_count": 19,
   "metadata": {},
   "outputs": [
    {
     "name": "stdout",
     "output_type": "stream",
     "text": [
      "189\n"
     ]
    }
   ],
   "source": [
    "# Funcion de redondeo hacia abajo\n",
    "\n",
    "n = float(input(\"Ingrese un número decimal: \"))\n",
    "\n",
    "def redondeo(n):\n",
    "    if n == int(n):\n",
    "        print(\"Ingrese un valor con decimales\")\n",
    "    else:\n",
    "        return(round(n))\n",
    "    \n",
    "numero = redondeo(n)\n",
    "    \n",
    "print(numero)\n",
    "\n"
   ]
  },
  {
   "cell_type": "code",
   "execution_count": 46,
   "metadata": {},
   "outputs": [
    {
     "name": "stdout",
     "output_type": "stream",
     "text": [
      "Las cartas en la mano del usuario son:\n",
      "K de Tréboles\n",
      "3 de Tréboles\n",
      "4 de Corazones\n",
      "2 de Corazones\n"
     ]
    }
   ],
   "source": [
    "# Simulación de Repartición de Cartas de Poker\n",
    "\n",
    "import random\n",
    "\n",
    "def crear_baraja():\n",
    "\n",
    "    naipe = ['Corazones', 'Diamantes', 'Tréboles', 'Picas']\n",
    "    valores = ['2', '3', '4', '5', '6', '7', '8', '9', '10', 'J', 'Q', 'K', 'A']\n",
    "\n",
    "    baraja = [f'{valor} de {palo}' \n",
    "              for palo in naipe \n",
    "              for valor in valores]\n",
    "    return baraja\n",
    "\n",
    "\n",
    "def revolver(baraja):\n",
    "    random.shuffle(baraja)\n",
    "    return baraja\n",
    "\n",
    "\n",
    "\n",
    "def repartir_cartas(baraja, cartas):\n",
    "\n",
    "\n",
    "\n",
    "    mano = baraja[:cartas]\n",
    "    baraja_restante = baraja[cartas:]\n",
    "    return mano, baraja_restante\n",
    "\n",
    "\n",
    "# Crear y revolver la baraja\n",
    "baraja = crear_baraja()\n",
    "baraja = revolver(baraja)\n",
    "\n",
    "# Repartir 4 cartas al usuario\n",
    "mano, baraja_restante = repartir_cartas(baraja,4)\n",
    "\n",
    "# Mostrar la mano del usuario\n",
    "print(\"Las cartas en la mano del usuario son:\")\n",
    "for carta in mano:\n",
    "    print(carta)\n",
    "\n"
   ]
  },
  {
   "cell_type": "code",
   "execution_count": 2,
   "metadata": {},
   "outputs": [],
   "source": [
    "import numpy as np"
   ]
  },
  {
   "cell_type": "code",
   "execution_count": 1,
   "metadata": {},
   "outputs": [],
   "source": [
    "# Calculadora de operaciones \n",
    "\n",
    "import numpy as np\n",
    "\n",
    "def ingresar_matriz(n):\n",
    "    matriz = []\n",
    "    print(f\"Ingresar los elementos de una matriz de {n}x{n}:\")\n",
    "   \n"
   ]
  },
  {
   "cell_type": "markdown",
   "metadata": {},
   "source": [
    "## Librerias: Pandas"
   ]
  },
  {
   "cell_type": "code",
   "execution_count": 34,
   "metadata": {},
   "outputs": [],
   "source": [
    "import pandas as pd"
   ]
  },
  {
   "cell_type": "markdown",
   "metadata": {},
   "source": [
    "### Tarea:\n",
    "\n",
    "Investiga la forma de crear un DataFrame con Pandas y crea un DataFrame con datos ficticios de ventas para una tienda. El DataFrame debe incluir las siguientes columnas: Producto, precio, cantidad vendidad y Fecha. Una vez tengas tu DataFrame, debes realizar lo sigueinte:\n",
    "\n",
    "1. Mostrar los primeros 5 registros del DataFrame\n",
    "2. Calcular el ingreso total por cada producto\n",
    "3. Calcular el ingreso total de todas las ventas\n",
    "4. Filtrar los productos vendidos en una fecha especifica\n",
    "5. Ordenar los productos por cantidad vendida en orden descendente"
   ]
  },
  {
   "cell_type": "code",
   "execution_count": 60,
   "metadata": {},
   "outputs": [
    {
     "name": "stdout",
     "output_type": "stream",
     "text": [
      "Los primeros 5 resgitros son: \n",
      "     Producto  Precio  Cantidad Vendida      Fecha\n",
      "0  Producto A   10.50                 3 2023-06-01\n",
      "1  Producto B   20.00                 5 2023-06-01\n",
      "2  Producto C    7.25                10 2023-06-01\n",
      "3  Producto D   12.50                 2 2023-06-01\n",
      "4  Producto E   15.75                 4 2023-06-01\n",
      "\n",
      "Ingreso total por cada producto:\n",
      "Producto\n",
      "Producto A     94.50\n",
      "Producto B    260.00\n",
      "Producto C    123.25\n",
      "Producto D     37.50\n",
      "Producto E    141.75\n",
      "Name: Ingreso Total, dtype: float64\n"
     ]
    }
   ],
   "source": [
    "#Solución del ejercicio\n",
    "\n",
    "import pandas as pd\n",
    "from datetime import datetime\n",
    "\n",
    "# Crear el DataFrame con datos ficticios de ventas\n",
    "data = {\n",
    "    'Producto': ['Producto A', 'Producto B', 'Producto C', 'Producto D', 'Producto E',\n",
    "                 'Producto A', 'Producto B', 'Producto C', 'Producto D', 'Producto E'],\n",
    "    'Precio': [10.5, 20.0, 7.25, 12.5, 15.75, 10.5, 20.0, 7.25, 12.5, 15.75],\n",
    "    'Cantidad Vendida': [3, 5, 10, 2, 4, 6, 8, 7, 1, 5],\n",
    "    'Fecha': ['2023-06-01', '2023-06-01', '2023-06-01', '2023-06-01', '2023-06-01',\n",
    "              '2023-06-02', '2023-06-02', '2023-06-02', '2023-06-02', '2023-06-02']\n",
    "}\n",
    "\n",
    "\n",
    "df = pd.DataFrame(data)\n",
    "df['Fecha'] = pd.to_datetime(df['Fecha'])\n",
    "\n",
    "#print(df)\n",
    "\n",
    "# 1. Primeros 5 registros\n",
    "\n",
    "print(\"Los primeros 5 resgitros son: \")\n",
    "print(df.head())\n",
    "\n",
    "# 2. Calcular el ingreso total por cada producto\n",
    "\n",
    "df['Ingreso Total'] = df['Precio'] * df['Cantidad Vendida']\n",
    "ingreso_por_producto = df.groupby('Producto')['Ingreso Total'].sum()\n",
    "print(\"\\nIngreso total por cada producto:\")\n",
    "print(ingreso_por_producto)\n",
    "\n"
   ]
  }
 ],
 "metadata": {
  "kernelspec": {
   "display_name": "Python 3",
   "language": "python",
   "name": "python3"
  },
  "language_info": {
   "codemirror_mode": {
    "name": "ipython",
    "version": 3
   },
   "file_extension": ".py",
   "mimetype": "text/x-python",
   "name": "python",
   "nbconvert_exporter": "python",
   "pygments_lexer": "ipython3",
   "version": "3.10.6"
  }
 },
 "nbformat": 4,
 "nbformat_minor": 2
}
