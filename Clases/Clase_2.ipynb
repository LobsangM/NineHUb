{
 "cells": [
  {
   "cell_type": "markdown",
   "metadata": {},
   "source": [
    "Sintaxis Básicas"
   ]
  },
  {
   "cell_type": "markdown",
   "metadata": {},
   "source": [
    "Indices en cadena"
   ]
  },
  {
   "cell_type": "code",
   "execution_count": null,
   "metadata": {},
   "outputs": [],
   "source": [
    "cadena = 'Hola'\n",
    "cadena[0]"
   ]
  },
  {
   "cell_type": "markdown",
   "metadata": {},
   "source": [
    "Conversión de tipos"
   ]
  },
  {
   "cell_type": "code",
   "execution_count": null,
   "metadata": {},
   "outputs": [],
   "source": [
    "d = int('1025')\n",
    "type(d)\n",
    "\n"
   ]
  },
  {
   "cell_type": "markdown",
   "metadata": {},
   "source": [
    "Condicionales"
   ]
  },
  {
   "cell_type": "markdown",
   "metadata": {},
   "source": [
    "if ( True )\n",
    "    codigo\n",
    "elif ()\n",
    "    codigo\n",
    "else ()\n",
    "    codigo\n",
    "    .\n",
    "    .\n",
    "    .\n",
    "    "
   ]
  },
  {
   "cell_type": "markdown",
   "metadata": {},
   "source": [
    "Hacer ejercicio de if, elif y else"
   ]
  },
  {
   "cell_type": "code",
   "execution_count": null,
   "metadata": {},
   "outputs": [],
   "source": [
    "edad = int(input('Ingrese su edad;'))\n",
    "\n",
    "def mayor(edad):\n",
    "    if (edad >= 18):\n",
    "        return 'Es mayor de edad'\n",
    "    elif (edad <= 18 ):\n",
    "        return 'Es menor de edad'\n",
    "\n",
    "print(mayor(edad))\n",
    "\n",
    "\n",
    "    \n"
   ]
  },
  {
   "cell_type": "code",
   "execution_count": null,
   "metadata": {},
   "outputs": [],
   "source": [
    "def mayor2(edad):\n",
    "    valor = False\n",
    "    if (edad >= 18):\n",
    "        valor = True\n",
    "    else:\n",
    "        valor = False\n",
    "    return valor\n",
    "\n",
    "print (mayor2(24))"
   ]
  },
  {
   "cell_type": "code",
   "execution_count": null,
   "metadata": {},
   "outputs": [],
   "source": [
    "def mayor3(edad):\n",
    "    return (edad >= 18)\n",
    "\n",
    "print (mayor3(17))\n"
   ]
  },
  {
   "cell_type": "markdown",
   "metadata": {},
   "source": [
    "Problema propuesto:\n",
    "\n",
    "Una persona puede votar si:\n",
    "1. Tener al menos 18 años\n",
    "2. Ser cuidadano registrado\n",
    "3. No tener restricciones legales, no tener delitos\n",
    "\n",
    "crear programa de python para ver que persona puede votar, parametros: EDAD, CUIDADANIA, DELITO.\n",
    "\n",
    "1. EDAD = int\n",
    "2. CUIDADANIA = BOOLEANO\n",
    "3. Condenado delito o no = BOOLEANO\n",
    "\n",
    "\n",
    "definamos la cuidadania como guatemalteco"
   ]
  },
  {
   "cell_type": "code",
   "execution_count": null,
   "metadata": {},
   "outputs": [],
   "source": [
    "# Parámetros\n",
    "\n",
    "edad = int(input('Ingrese su edad: '))\n",
    "ciudadania = int(input('Si es guatemalteco coloque 1, si no lo es coloque 0: '))\n",
    "condena = int(input('Si no tiene delitos coloque 0, si tiene delitos coloque 1: '))\n",
    "\n",
    "def votar(edad, ciudadania, condena):\n",
    "    if edad < 18:\n",
    "        return 'No puedes votar porque eres menor de edad'\n",
    "    if ciudadania == 0:\n",
    "        return 'No puedes votar, no eres guatemalteco'\n",
    "    if condena == 1:\n",
    "        return 'No puedes votar, tienes delitos'\n",
    "    return 'Si puedes votar, cumples con los requisitos'\n",
    "\n",
    "print(votar(edad, ciudadania, condena))\n"
   ]
  },
  {
   "cell_type": "markdown",
   "metadata": {},
   "source": [
    "Funciones Lambda\n",
    "\n",
    "Funciones de varias variables"
   ]
  },
  {
   "cell_type": "code",
   "execution_count": null,
   "metadata": {},
   "outputs": [],
   "source": [
    "f = lambda x: x**2\n",
    "print(f(4))\n",
    "\n",
    "f2 = lambda x,y: x**2 + 2*y\n",
    "print(f2(3,1))"
   ]
  },
  {
   "cell_type": "markdown",
   "metadata": {},
   "source": [
    "Bucles While\n",
    "\n",
    "\"mientra esto sea cierto se ejecuta\""
   ]
  },
  {
   "cell_type": "code",
   "execution_count": null,
   "metadata": {},
   "outputs": [],
   "source": [
    "#función que calcule factoriales\n",
    "\n",
    "n = 5\n",
    "\n",
    "def fact(n):\n",
    "    i = 1\n",
    "    resultado = 1\n",
    "    while (i<=n):\n",
    "        resultado *= i   #recordemos que *= es igual a resultado = resultado*i\n",
    "        i += 1\n",
    "    return resultado\n",
    "\n",
    "print(fact(n))\n"
   ]
  },
  {
   "cell_type": "code",
   "execution_count": null,
   "metadata": {},
   "outputs": [],
   "source": [
    "#Números de Fibonacci\n",
    "\n",
    "\n",
    "\n",
    "def fibonacci(n):\n",
    "\n",
    "    #definimos la variables\n",
    "    resultado = 1\n",
    "    anterior = 0\n",
    "    i = 0\n",
    "\n",
    "    while(i < n):\n",
    "        memoria = resultado \n",
    "        resultado += anterior\n",
    "        anterior = memoria \n",
    "\n",
    "    return resultado\n",
    "\n",
    "print(fibonacci(0), fibonacci(1), fibonacci(2), fibonacci(3))"
   ]
  },
  {
   "cell_type": "markdown",
   "metadata": {},
   "source": [
    "Funciones de recurencia"
   ]
  },
  {
   "cell_type": "code",
   "execution_count": 39,
   "metadata": {},
   "outputs": [
    {
     "name": "stdout",
     "output_type": "stream",
     "text": [
      "fibonacci por recurencia:  8\n"
     ]
    }
   ],
   "source": [
    "n = 5\n",
    "\n",
    "def fibo(n):\n",
    "    if (n <= 1):\n",
    "        return 1\n",
    "    else:\n",
    "        return fibo(n-1) + fibo(n-2)\n",
    "     \n",
    "\n",
    "\n",
    "print('fibonacci por recurencia: ',fibo(n))"
   ]
  },
  {
   "cell_type": "code",
   "execution_count": 40,
   "metadata": {},
   "outputs": [
    {
     "name": "stdout",
     "output_type": "stream",
     "text": [
      "120\n"
     ]
    }
   ],
   "source": [
    "#Factorial con funciones de recurencia\n",
    "\n",
    "def factorial (n):\n",
    "    if (n>0):\n",
    "        return factorial(n-1)*n\n",
    "    else:\n",
    "        return 1\n",
    "    \n",
    "\n",
    "print(factorial(5))"
   ]
  },
  {
   "cell_type": "markdown",
   "metadata": {},
   "source": [
    "Problema reto:\n",
    "\n",
    "Programa que encuentre números PRIMOS mas pequeños que n"
   ]
  },
  {
   "cell_type": "code",
   "execution_count": null,
   "metadata": {},
   "outputs": [],
   "source": [
    "#Números primos mas pequeños que n\n",
    "\n",
    "n = 100\n"
   ]
  }
 ],
 "metadata": {
  "kernelspec": {
   "display_name": "Python 3",
   "language": "python",
   "name": "python3"
  },
  "language_info": {
   "codemirror_mode": {
    "name": "ipython",
    "version": 3
   },
   "file_extension": ".py",
   "mimetype": "text/x-python",
   "name": "python",
   "nbconvert_exporter": "python",
   "pygments_lexer": "ipython3",
   "version": "3.10.6"
  }
 },
 "nbformat": 4,
 "nbformat_minor": 2
}
