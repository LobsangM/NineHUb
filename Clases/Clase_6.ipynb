{
 "cells": [
  {
   "cell_type": "markdown",
   "metadata": {},
   "source": [
    "# Persistencia de Datos"
   ]
  },
  {
   "cell_type": "markdown",
   "metadata": {},
   "source": [
    "Se refiere al almacenamiento y mantenimiento de datos de manera que perduren\n",
    "\n",
    "Archivos que se usan con los .txt, .csv, .mp4 y .mov , entre muchos otros"
   ]
  },
  {
   "cell_type": "code",
   "execution_count": 11,
   "metadata": {},
   "outputs": [
    {
     "name": "stdout",
     "output_type": "stream",
     "text": [
      "<class '_io.TextIOWrapper'>\n",
      "\n"
     ]
    },
    {
     "data": {
      "text/plain": [
       "<function TextIOWrapper.close()>"
      ]
     },
     "execution_count": 11,
     "metadata": {},
     "output_type": "execute_result"
    }
   ],
   "source": [
    "#Ejemplo abrir un archivo de texto\n",
    "\n",
    "archivo = open('texto.txt','r') #poner el archivo en una variable y abirirlo \n",
    "print(type(archivo))\n",
    "mesage = archivo.read()   #Lee el archivo \n",
    "\n",
    "print(mesage)\n",
    "\n",
    "archivo.close\n",
    "\n",
    "#Para agregar una línea de texto al archivo abirirlo en modo escritura\n",
    "\n",
    "# archivo = open('texto.txt','w')\n",
    "\n",
    "# mesage.write('hola')\n",
    "\n",
    "# archivo.close\n",
    "\n"
   ]
  },
  {
   "cell_type": "markdown",
   "metadata": {},
   "source": [
    "### Ejercicio\n",
    "\n",
    "Crea un nuevo archivo \"ejercicio.txt\" con Python. Agrega el siguiente texto:\n",
    "\n",
    "1. Hola mundo,\n",
    "2. Estamos aprendiendo a usar java\n",
    "3. Escribir y guardar información\n",
    "4. en archivos en java\n",
    "\n",
    "Luego sustituye todas las instancias de \"Java\" por \"Python\" en tu archivo de texto.\n",
    "\n",
    "Busca si la palabra \"aprendiendo\" existe en el archivo"
   ]
  },
  {
   "cell_type": "code",
   "execution_count": 16,
   "metadata": {},
   "outputs": [
    {
     "data": {
      "text/plain": [
       "('ejercicio.txt', False)"
      ]
     },
     "execution_count": 16,
     "metadata": {},
     "output_type": "execute_result"
    }
   ],
   "source": [
    "#Ejercicio\n",
    "\n",
    "# Crear y escribir el archivo inicial con el texto dado\n",
    "archivo = \"ejercicio.txt\"\n",
    "texto = \"\"\"Hola mundo,\n",
    "Estamos aprendiendo a usar java\n",
    "Escribir y guardar información\n",
    "en archivos en java\n",
    "\"\"\"\n",
    "\n",
    "# Texto inicial\n",
    "with open(archivo, 'w') as file:\n",
    "    file.write(texto)\n",
    "\n",
    "# Leer y reemplazar\n",
    "with open(archivo, 'r') as file:\n",
    "    content = file.read()\n",
    "\n",
    "cambio = content.replace(\"java\", \"python\")\n",
    "\n",
    "# Escribirlo otra vez\n",
    "with open(archivo, 'w') as file:\n",
    "    file.write(cambio)\n",
    "\n",
    "# Buscar si la palabra existe\n",
    "with open(archivo, 'r') as file:\n",
    "    texto_final = file.read()\n",
    "\n",
    "Buscar_palabra = \"Aprendiendo\" in texto_final\n",
    "\n",
    "archivo, Buscar_palabra"
   ]
  },
  {
   "cell_type": "markdown",
   "metadata": {},
   "source": [
    "# Introducción al Análisis de Datos"
   ]
  },
  {
   "cell_type": "markdown",
   "metadata": {},
   "source": [
    "# Ejercicio\n",
    "\n",
    "Realizar un gráfico de disperción utilizando el archivo de excel"
   ]
  },
  {
   "cell_type": "code",
   "execution_count": 36,
   "metadata": {},
   "outputs": [
    {
     "data": {
      "image/png": "[encoded data removed]",
      "text/plain": [
       "<Figure size 640x480 with 1 Axes>"
      ]
     },
     "metadata": {},
     "output_type": "display_data"
    }
   ],
   "source": [
    "#Ejercicios\n",
    "\n",
    "import pandas as pd\n",
    "import matplotlib.pyplot as plt\n",
    "\n",
    "dataframe = pd.read_excel('Datos.xlsx')\n",
    "\n",
    "x = dataframe['x'].values.tolist()\n",
    "y = dataframe['y'].values.tolist()\n",
    "\n",
    "\n",
    "plt.xlabel('eje x')\n",
    "plt.ylabel('eje y')\n",
    "\n",
    "plt.scatter(x,y, color='green')\n",
    "plt.show()\n",
    "\n",
    "#print(dataframe)\n",
    "\n"
   ]
  },
  {
   "cell_type": "code",
   "execution_count": null,
   "metadata": {},
   "outputs": [],
   "source": [
    "# Ploteamos una función\n",
    "\n",
    "f = lambda x: x**2 + 2*()"
   ]
  }
 ],
 "metadata": {
  "kernelspec": {
   "display_name": "Python 3",
   "language": "python",
   "name": "python3"
  },
  "language_info": {
   "codemirror_mode": {
    "name": "ipython",
    "version": 3
   },
   "file_extension": ".py",
   "mimetype": "text/x-python",
   "name": "python",
   "nbconvert_exporter": "python",
   "pygments_lexer": "ipython3",
   "version": "3.10.6"
  }
 },
 "nbformat": 4,
 "nbformat_minor": 2
}
