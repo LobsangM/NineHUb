{
 "cells": [
  {
   "cell_type": "markdown",
   "metadata": {},
   "source": [
    "# Ciclos While"
   ]
  },
  {
   "cell_type": "code",
   "execution_count": null,
   "metadata": {},
   "outputs": [],
   "source": [
    "contador = 1\n",
    "\n",
    "while contador <= 5:\n",
    "    print(contador)\n",
    "    contador = contador +1 "
   ]
  },
  {
   "cell_type": "markdown",
   "metadata": {},
   "source": [
    "## Ejercicios"
   ]
  },
  {
   "cell_type": "code",
   "execution_count": null,
   "metadata": {},
   "outputs": [],
   "source": [
    "# Imprimir los números del 1 al 100\n",
    "\n",
    "n1 = 1\n",
    "\n",
    "while n1 <= 100:\n",
    "    print(n1)\n",
    "    n1 = n1 + 1"
   ]
  },
  {
   "cell_type": "code",
   "execution_count": null,
   "metadata": {},
   "outputs": [],
   "source": [
    "# Imprimir únicamente los números impares del 1 al 50\n",
    "\n",
    "n2 = 1\n",
    "\n",
    "while n2 <= 50:\n",
    "    print(n2)\n",
    "    n2 = n2 + 2"
   ]
  },
  {
   "cell_type": "code",
   "execution_count": null,
   "metadata": {},
   "outputs": [],
   "source": [
    "# Imprimir los siguientes números (1,4,9,16,25,36,49,64,81,100)\n",
    "\n",
    "n3 = 1 \n",
    "\n",
    "while n3 <= 10:\n",
    "    print(n3**2)\n",
    "    n3 = n3 + 1 "
   ]
  },
  {
   "cell_type": "markdown",
   "metadata": {},
   "source": [
    "# Ciclo For"
   ]
  },
  {
   "cell_type": "markdown",
   "metadata": {},
   "source": [
    "## Ejemplos"
   ]
  },
  {
   "cell_type": "code",
   "execution_count": 19,
   "metadata": {},
   "outputs": [
    {
     "name": "stdout",
     "output_type": "stream",
     "text": [
      "1\n",
      "2\n",
      "3\n",
      "4\n",
      "5\n"
     ]
    }
   ],
   "source": [
    "numeros = [1,2,3,4,5]\n",
    "\n",
    "for numero in numeros:\n",
    "    print(numero)"
   ]
  },
  {
   "cell_type": "code",
   "execution_count": 22,
   "metadata": {},
   "outputs": [
    {
     "name": "stdout",
     "output_type": "stream",
     "text": [
      "El número de letras 'a' en el texto es: 7\n"
     ]
    }
   ],
   "source": [
    "texto = 'Python es un lenguaje de programación fantástico para aprender'\n",
    "contador_a = 0\n",
    "\n",
    "for i in range(len(texto)):\n",
    "    if texto[i] == 'a':\n",
    "        contador_a += 1\n",
    "\n",
    "print(f\"El número de letras 'a' en el texto es: {contador_a}\")"
   ]
  },
  {
   "cell_type": "markdown",
   "metadata": {},
   "source": [
    "## Range"
   ]
  },
  {
   "cell_type": "code",
   "execution_count": 23,
   "metadata": {},
   "outputs": [
    {
     "name": "stdout",
     "output_type": "stream",
     "text": [
      "0\n",
      "1\n",
      "2\n",
      "3\n",
      "4\n"
     ]
    }
   ],
   "source": [
    "for i in range(5):\n",
    "    print(i) "
   ]
  },
  {
   "cell_type": "markdown",
   "metadata": {},
   "source": [
    "## Break y Continue\n",
    "\n",
    "La instrucción Break se utiliza para salir de un blucle prematuramente.\n",
    "\n",
    "Continue se utiliza para saltar la iteración actual del bucle y pasar a la siguiente iteración."
   ]
  },
  {
   "cell_type": "code",
   "execution_count": 24,
   "metadata": {},
   "outputs": [
    {
     "name": "stdout",
     "output_type": "stream",
     "text": [
      "Revisando Número: 1\n",
      "Revisando Número: 2\n",
      "Revisando Número: 3\n",
      "Revisando Número: 4\n",
      "Numero encontrado: 5\n"
     ]
    }
   ],
   "source": [
    "# Ejemplo Break\n",
    "\n",
    "numeros = [1,2,3,4,5,6,7,8,9,10]\n",
    "\n",
    "#queremos encontrar el número 5\n",
    "\n",
    "for numero in numeros:\n",
    "    if numero == 5:\n",
    "        print(\"Numero encontrado:\", numero )\n",
    "        break #Salimos del bucle cuando encontramos el número\n",
    "    print(\"Revisando Número:\", numero)"
   ]
  },
  {
   "cell_type": "code",
   "execution_count": 61,
   "metadata": {},
   "outputs": [
    {
     "name": "stdout",
     "output_type": "stream",
     "text": [
      "numeros impar: 1\n",
      "numeros impar: 3\n",
      "numeros impar: 5\n",
      "numeros impar: 7\n",
      "numeros impar: 9\n"
     ]
    }
   ],
   "source": [
    "#Ejemplo continue \n",
    "\n",
    "numeros = [1,2,3,4,5,6,7,8,9,10]\n",
    "\n",
    "#Queremos imprimir solo los numeros pares\n",
    "for numero in numeros:\n",
    "    if numero %2 == 0:\n",
    "        continue \n",
    "    print(\"numeros impar:\", numero)"
   ]
  },
  {
   "cell_type": "markdown",
   "metadata": {},
   "source": [
    "## Ejercicios"
   ]
  },
  {
   "cell_type": "code",
   "execution_count": 29,
   "metadata": {},
   "outputs": [
    {
     "name": "stdout",
     "output_type": "stream",
     "text": [
      "0\n",
      "1\n",
      "2\n",
      "3\n",
      "4\n",
      "5\n",
      "6\n",
      "7\n",
      "8\n",
      "9\n",
      "10\n",
      "11\n",
      "12\n",
      "13\n",
      "14\n",
      "15\n",
      "16\n",
      "17\n",
      "18\n",
      "19\n",
      "20\n",
      "21\n",
      "22\n",
      "23\n",
      "24\n",
      "25\n",
      "26\n",
      "27\n",
      "28\n",
      "29\n",
      "30\n",
      "31\n",
      "32\n",
      "33\n",
      "34\n",
      "35\n",
      "36\n",
      "37\n",
      "38\n",
      "39\n",
      "40\n",
      "41\n",
      "42\n",
      "43\n",
      "44\n",
      "45\n",
      "46\n",
      "47\n",
      "48\n",
      "49\n",
      "50\n",
      "51\n",
      "52\n",
      "53\n",
      "54\n",
      "55\n",
      "56\n",
      "57\n",
      "58\n",
      "59\n",
      "60\n",
      "61\n",
      "62\n",
      "63\n",
      "64\n",
      "65\n",
      "66\n",
      "67\n",
      "68\n",
      "69\n",
      "70\n",
      "71\n",
      "72\n",
      "73\n",
      "74\n",
      "75\n",
      "76\n",
      "77\n",
      "78\n",
      "79\n",
      "80\n",
      "81\n",
      "82\n",
      "83\n",
      "84\n",
      "85\n",
      "86\n",
      "87\n",
      "88\n",
      "89\n",
      "90\n",
      "91\n",
      "92\n",
      "93\n",
      "94\n",
      "95\n",
      "96\n",
      "97\n",
      "98\n",
      "99\n",
      "100\n"
     ]
    }
   ],
   "source": [
    "#imprimir los números del 1 al 10 usando ciclo for\n",
    "\n",
    "for n in range(0,101):\n",
    "    print(n)"
   ]
  },
  {
   "cell_type": "code",
   "execution_count": 40,
   "metadata": {},
   "outputs": [
    {
     "name": "stdout",
     "output_type": "stream",
     "text": [
      "Número impar: 1\n",
      "Número impar: 3\n",
      "Número impar: 5\n",
      "Número impar: 7\n",
      "Número impar: 9\n",
      "Número impar: 11\n",
      "Número impar: 13\n",
      "Número impar: 15\n",
      "Número impar: 17\n",
      "Número impar: 19\n",
      "Número impar: 21\n",
      "Número impar: 23\n",
      "Número impar: 25\n",
      "Número impar: 27\n",
      "Número impar: 29\n",
      "Número impar: 31\n",
      "Número impar: 33\n",
      "Número impar: 35\n",
      "Número impar: 37\n",
      "Número impar: 39\n",
      "Número impar: 41\n",
      "Número impar: 43\n",
      "Número impar: 45\n",
      "Número impar: 47\n",
      "Número impar: 49\n"
     ]
    }
   ],
   "source": [
    "# Imrpimir únicamente los numeros impares del 1 al 50\n",
    "\n",
    "for n in range(0,50):\n",
    "    if numero %2!=0:\n",
    "         print(\"Número impar:\",numero)\n",
    "    numero = numero + 1\n",
    "\n"
   ]
  },
  {
   "cell_type": "code",
   "execution_count": 38,
   "metadata": {},
   "outputs": [
    {
     "name": "stdout",
     "output_type": "stream",
     "text": [
      "5040\n"
     ]
    }
   ],
   "source": [
    "#Escribe un programa que calcule el factorial de un número\n",
    "\n",
    "def factorial(i):\n",
    "    fact = 1\n",
    "    for n in range(1, i + 1):\n",
    "        fact *= n\n",
    "    print(fact)\n",
    "\n",
    "factorial(7)\n",
    "\n",
    "    "
   ]
  },
  {
   "cell_type": "markdown",
   "metadata": {},
   "source": [
    "# Funciones\n",
    "\n",
    "def function_name (parameters)\n",
    "\n",
    "keyword --- name --- parameters"
   ]
  },
  {
   "cell_type": "code",
   "execution_count": 42,
   "metadata": {},
   "outputs": [
    {
     "data": {
      "text/plain": [
       "3"
      ]
     },
     "execution_count": 42,
     "metadata": {},
     "output_type": "execute_result"
    }
   ],
   "source": [
    "def MiFuncion(a,b):\n",
    "    c = a + b\n",
    "    return c\n",
    "\n",
    "MiFuncion(1,2)"
   ]
  },
  {
   "cell_type": "code",
   "execution_count": 43,
   "metadata": {},
   "outputs": [
    {
     "data": {
      "text/plain": [
       "5"
      ]
     },
     "execution_count": 43,
     "metadata": {},
     "output_type": "execute_result"
    }
   ],
   "source": [
    "def suma(numero1,numero2):\n",
    "    suma = numero1 + numero2\n",
    "    return suma \n",
    "\n",
    "suma(2,3)"
   ]
  },
  {
   "cell_type": "code",
   "execution_count": 46,
   "metadata": {},
   "outputs": [
    {
     "name": "stdout",
     "output_type": "stream",
     "text": [
      "El area del rectangulo es: 15\n"
     ]
    }
   ],
   "source": [
    "def AreaRectangulo():\n",
    "    altura = 5\n",
    "    base = 3\n",
    "    area = altura * base\n",
    "    return area\n",
    "\n",
    "print(\"El area del rectangulo es:\", AreaRectangulo())"
   ]
  },
  {
   "cell_type": "markdown",
   "metadata": {},
   "source": [
    "## Ejercicios de Funciones en clase\n",
    "\n",
    "1. Programa una función que calcule el área de un triangulo. Esta debe recibir al menos dos parámetros y tener un valor de regreso\n",
    "\n",
    "2. Programa una función que sea capaz de determinar si un número es par o impar. Debe tener al menos un parámetro y regresar verdadero si es par, falso si no es par."
   ]
  },
  {
   "cell_type": "code",
   "execution_count": 55,
   "metadata": {},
   "outputs": [
    {
     "name": "stdout",
     "output_type": "stream",
     "text": [
      "El área del triángulo es: 25.0\n"
     ]
    }
   ],
   "source": [
    "#Area de un triangulo\n",
    "\n",
    "def AreaTriangulo():\n",
    "    base = 5\n",
    "    altura = 10\n",
    "\n",
    "    area = (base*altura)/2\n",
    "\n",
    "    return(area)\n",
    "\n",
    "print(\"El área del triángulo es:\", AreaTriangulo())"
   ]
  },
  {
   "cell_type": "code",
   "execution_count": 59,
   "metadata": {},
   "outputs": [
    {
     "name": "stdout",
     "output_type": "stream",
     "text": [
      "FALSO\n",
      "None\n"
     ]
    }
   ],
   "source": [
    "#Determinar si un número es par o impar\n",
    "\n",
    "n = 33 #número a determinar\n",
    "\n",
    "def  det(n):\n",
    "\n",
    "    if n %2==0 :\n",
    "        print(\"VERDADERO\")\n",
    "    elif n %2 != 0 :\n",
    "        print(\"FALSO\")\n",
    "\n",
    "print(det(n))"
   ]
  },
  {
   "cell_type": "markdown",
   "metadata": {},
   "source": [
    "# Ejercicio Ciclos y funciones\n",
    "\n",
    "Tim tiene actualmente 14 ños y quiere saber cuantos años le faltan para poder votar en las proximas elecciones. Las leyes electorales estipulan que una persona es capaz de votar si tiene al menos 18 años, es un cuidadano registrado de la comunidad, y no tiene restricciones legales que le impidan votar.\n",
    "\n",
    "Para ayudar a Tim y personas como tim se te ha pedido que desarrrolles un programa en python que:\n",
    "\n",
    "1. Utilice una función para verificar si Tim cumple con los requisitos para votar.\n",
    "2. Utilice un ciclo para calcular cuantos años faltan hasya que Tim sea elegible para votar.\n",
    "3. Imprima un mensaje qu indique cuantos años le faltan a Tim para poder votar"
   ]
  }
 ],
 "metadata": {
  "kernelspec": {
   "display_name": "Python 3",
   "language": "python",
   "name": "python3"
  },
  "language_info": {
   "codemirror_mode": {
    "name": "ipython",
    "version": 3
   },
   "file_extension": ".py",
   "mimetype": "text/x-python",
   "name": "python",
   "nbconvert_exporter": "python",
   "pygments_lexer": "ipython3",
   "version": "3.10.6"
  }
 },
 "nbformat": 4,
 "nbformat_minor": 2
}
